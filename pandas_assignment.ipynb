{
 "cells": [
  {
   "cell_type": "markdown",
   "id": "d3dd21a4-658f-4853-b117-d2c72d2f1646",
   "metadata": {},
   "source": [
    "Q1. Create a Pandas Series that contains the following data: 4, 8, 15, 16, 23, and 42. Then, print the series."
   ]
  },
  {
   "cell_type": "code",
   "execution_count": 1,
   "id": "8406ea7e-0f49-42cf-afaa-d2e544c6cd87",
   "metadata": {},
   "outputs": [],
   "source": [
    "import pandas as pd"
   ]
  },
  {
   "cell_type": "code",
   "execution_count": 2,
   "id": "e06fcf95-72de-41e3-b5ec-278b4aa39571",
   "metadata": {},
   "outputs": [
    {
     "name": "stdout",
     "output_type": "stream",
     "text": [
      "0     4\n",
      "1     8\n",
      "2    15\n",
      "3    16\n",
      "4    23\n",
      "5    42\n",
      "dtype: int64\n"
     ]
    }
   ],
   "source": [
    "data = [4, 8, 15, 16, 23, 42]\n",
    "\n",
    "series = pd.Series(data)\n",
    "print(series)"
   ]
  },
  {
   "cell_type": "markdown",
   "id": "64cb5bfb-0a6f-47b3-a311-cb5003696fe0",
   "metadata": {},
   "source": [
    "Q2. Create a variable of list type containing 10 elements in it, and apply pandas.Series function on the\n",
    "variable print it."
   ]
  },
  {
   "cell_type": "code",
   "execution_count": 3,
   "id": "63329daa-489d-431c-a62a-81ca69977781",
   "metadata": {},
   "outputs": [
    {
     "name": "stdout",
     "output_type": "stream",
     "text": [
      "0     1\n",
      "1    11\n",
      "2    22\n",
      "3    33\n",
      "4    44\n",
      "5    55\n",
      "6    66\n",
      "7    77\n",
      "8    88\n",
      "9    99\n",
      "dtype: int64\n"
     ]
    }
   ],
   "source": [
    "import pandas as pd\n",
    "\n",
    "my_list = [1,11,22,33,44,55,66,77,88,99]\n",
    "my_series = pd.Series(my_list)\n",
    "print(my_series)"
   ]
  },
  {
   "cell_type": "markdown",
   "id": "87bcb7f8-4429-4789-bf78-df1568deeabd",
   "metadata": {},
   "source": [
    "Q3. Create a Pandas DataFrame that contains the following data:"
   ]
  },
  {
   "cell_type": "code",
   "execution_count": 5,
   "id": "f389bdcf-5a15-45ec-897b-4390939f161b",
   "metadata": {},
   "outputs": [],
   "source": [
    "import pandas as pd\n",
    "\n",
    "data = {\n",
    "    'Name' : [ 'Alice' , 'Bob' , 'Claire'],\n",
    "    'Age' : [ 25 , 30 , 27   ],\n",
    "    'Gender' : [ 'Female' , 'Male' , 'Female' ]\n",
    "}\n",
    "\n",
    "df = pd.DataFrame(data)"
   ]
  },
  {
   "cell_type": "code",
   "execution_count": 6,
   "id": "fabfb0d0-ae68-4592-aeae-b25ef0a5df52",
   "metadata": {},
   "outputs": [
    {
     "data": {
      "text/html": [
       "<div>\n",
       "<style scoped>\n",
       "    .dataframe tbody tr th:only-of-type {\n",
       "        vertical-align: middle;\n",
       "    }\n",
       "\n",
       "    .dataframe tbody tr th {\n",
       "        vertical-align: top;\n",
       "    }\n",
       "\n",
       "    .dataframe thead th {\n",
       "        text-align: right;\n",
       "    }\n",
       "</style>\n",
       "<table border=\"1\" class=\"dataframe\">\n",
       "  <thead>\n",
       "    <tr style=\"text-align: right;\">\n",
       "      <th></th>\n",
       "      <th>Name</th>\n",
       "      <th>Age</th>\n",
       "      <th>Gender</th>\n",
       "    </tr>\n",
       "  </thead>\n",
       "  <tbody>\n",
       "    <tr>\n",
       "      <th>0</th>\n",
       "      <td>Alice</td>\n",
       "      <td>25</td>\n",
       "      <td>Female</td>\n",
       "    </tr>\n",
       "    <tr>\n",
       "      <th>1</th>\n",
       "      <td>Bob</td>\n",
       "      <td>30</td>\n",
       "      <td>Male</td>\n",
       "    </tr>\n",
       "    <tr>\n",
       "      <th>2</th>\n",
       "      <td>Claire</td>\n",
       "      <td>27</td>\n",
       "      <td>Female</td>\n",
       "    </tr>\n",
       "  </tbody>\n",
       "</table>\n",
       "</div>"
      ],
      "text/plain": [
       "     Name  Age  Gender\n",
       "0   Alice   25  Female\n",
       "1     Bob   30    Male\n",
       "2  Claire   27  Female"
      ]
     },
     "execution_count": 6,
     "metadata": {},
     "output_type": "execute_result"
    }
   ],
   "source": [
    "df"
   ]
  },
  {
   "cell_type": "markdown",
   "id": "93698f5c-93ac-4b05-b782-517c05232a3c",
   "metadata": {},
   "source": [
    "Q4. What is ‘DataFrame’ in pandas and how is it different from pandas.series? Explain with an example."
   ]
  },
  {
   "cell_type": "code",
   "execution_count": 7,
   "id": "cb346019-858d-4664-a136-fe2d97a31298",
   "metadata": {},
   "outputs": [
    {
     "data": {
      "text/plain": [
       "\"\\nA Series is a single column of data.\\nIt has two parts: index (row labels) and values (data).\\n\\nexample : \\n\\nimport pandas as pd\\n\\n# Series of marks\\nmarks = pd.Series([80, 85, 90], index=['Math', 'Science', 'English'])\\nprint(marks)\\n\\n\\nA DataFrame is a table of data with rows and multiple columns.\\n\\nThink of it like a full Excel sheet.\\n\\nexample:\\n\\nA DataFrame is a table of data with rows and multiple columns.\\n\\nThink of it like a full Excel sheet.\\n\\n\\n| Feature   | Series                | DataFrame                        |\\n| --------- | --------------------- | -------------------------------- |\\n| Dimension | 1D (one column)       | 2D (rows and columns)            |\\n| Structure | Just index and values | Rows, columns, and values        |\\n| Use case  | Single column of data | Full dataset or table            |\\n| Example   | Marks in a subject    | Student info (Name, Age, Gender) |\\n\\n\\n\""
      ]
     },
     "execution_count": 7,
     "metadata": {},
     "output_type": "execute_result"
    }
   ],
   "source": [
    "'''\n",
    "A Series is a single column of data.\n",
    "It has two parts: index (row labels) and values (data).\n",
    "\n",
    "example : \n",
    "\n",
    "import pandas as pd\n",
    "\n",
    "# Series of marks\n",
    "marks = pd.Series([80, 85, 90], index=['Math', 'Science', 'English'])\n",
    "print(marks)\n",
    "\n",
    "\n",
    "A DataFrame is a table of data with rows and multiple columns.\n",
    "\n",
    "Think of it like a full Excel sheet.\n",
    "\n",
    "example:\n",
    "\n",
    "A DataFrame is a table of data with rows and multiple columns.\n",
    "\n",
    "Think of it like a full Excel sheet.\n",
    "\n",
    "\n",
    "| Feature   | Series                | DataFrame                        |\n",
    "| --------- | --------------------- | -------------------------------- |\n",
    "| Dimension | 1D (one column)       | 2D (rows and columns)            |\n",
    "| Structure | Just index and values | Rows, columns, and values        |\n",
    "| Use case  | Single column of data | Full dataset or table            |\n",
    "| Example   | Marks in a subject    | Student info (Name, Age, Gender) |\n",
    "\n",
    "\n",
    "'''"
   ]
  },
  {
   "cell_type": "markdown",
   "id": "ca42cb13-3244-44ea-a3c6-d356cfdd41b0",
   "metadata": {},
   "source": [
    "Q5. What are some common functions you can use to manipulate data in a Pandas DataFrame? Can\n",
    "you give an example of when you might use one of these functions?"
   ]
  },
  {
   "cell_type": "code",
   "execution_count": 8,
   "id": "5079fe91-f264-4535-9a43-4844463a424e",
   "metadata": {},
   "outputs": [
    {
     "data": {
      "text/plain": [
       "\"\\nSome common functions to manipulate DataFrame are:\\n\\nhead() – View first few rows\\n\\ntail() – View last few rows\\n\\ninfo() – Summary of data\\n\\ndescribe() – Statistics (mean, min, max, etc.)\\n\\ndrop() – Remove rows/columns\\n\\nrename() – Rename columns\\n\\nsort_values() – Sort data by a column\\n\\nfillna() – Fill missing values\\n\\ngroupby() – Group data by column\\n\\n\\nexample:\\n\\ndf.sort_values('Age')\\nUse: To sort a student list by age in ascending order.\\n\\n\\n\""
      ]
     },
     "execution_count": 8,
     "metadata": {},
     "output_type": "execute_result"
    }
   ],
   "source": [
    "'''\n",
    "Some common functions to manipulate DataFrame are:\n",
    "\n",
    "head() – View first few rows\n",
    "\n",
    "tail() – View last few rows\n",
    "\n",
    "info() – Summary of data\n",
    "\n",
    "describe() – Statistics (mean, min, max, etc.)\n",
    "\n",
    "drop() – Remove rows/columns\n",
    "\n",
    "rename() – Rename columns\n",
    "\n",
    "sort_values() – Sort data by a column\n",
    "\n",
    "fillna() – Fill missing values\n",
    "\n",
    "groupby() – Group data by column\n",
    "\n",
    "\n",
    "example:\n",
    "\n",
    "df.sort_values('Age')\n",
    "Use: To sort a student list by age in ascending order.\n",
    "\n",
    "\n",
    "'''"
   ]
  },
  {
   "cell_type": "markdown",
   "id": "96d3a72d-b4f5-4440-9b23-faf1e7cb0364",
   "metadata": {},
   "source": [
    "Q6. Which of the following is mutable in nature Series, DataFrame, Panel?"
   ]
  },
  {
   "cell_type": "code",
   "execution_count": 10,
   "id": "370c9343-3671-4337-8072-3c41920e1e4d",
   "metadata": {},
   "outputs": [
    {
     "data": {
      "text/plain": [
       "'\\nSeries – ✅ Mutable\\n\\nDataFrame – ✅ Mutable\\n\\nPanel – ✅ Mutable (but deprecated)\\n'"
      ]
     },
     "execution_count": 10,
     "metadata": {},
     "output_type": "execute_result"
    }
   ],
   "source": [
    "'''\n",
    "Series – ✅ Mutable\n",
    "\n",
    "DataFrame – ✅ Mutable\n",
    "\n",
    "Panel – ✅ Mutable (but deprecated)\n",
    "'''"
   ]
  },
  {
   "cell_type": "markdown",
   "id": "3bcfbe6b-feb5-4a2e-ab32-055659245de3",
   "metadata": {},
   "source": [
    "Q7. Create a DataFrame using multiple Series. Explain with an example."
   ]
  },
  {
   "cell_type": "code",
   "execution_count": 11,
   "id": "4e275e4f-86d9-41fd-a782-ee9396fd3207",
   "metadata": {},
   "outputs": [
    {
     "name": "stdout",
     "output_type": "stream",
     "text": [
      "      Name  Age  Gender\n",
      "0    Alice   25  Female\n",
      "1      Bob   30    Male\n",
      "2  Charlie   28    Male\n"
     ]
    }
   ],
   "source": [
    "import pandas as pd\n",
    "\n",
    "# Create Series\n",
    "names = pd.Series(['Alice', 'Bob', 'Charlie'])\n",
    "ages = pd.Series([25, 30, 28])\n",
    "genders = pd.Series(['Female', 'Male', 'Male'])\n",
    "\n",
    "# Combine Series into DataFrame\n",
    "df = pd.DataFrame({\n",
    "    'Name': names,\n",
    "    'Age': ages,\n",
    "    'Gender': genders\n",
    "})\n",
    "\n",
    "# Print DataFrame\n",
    "print(df)\n"
   ]
  },
  {
   "cell_type": "code",
   "execution_count": null,
   "id": "be226fd7-78e0-44fe-8b31-1abbc67eb3d0",
   "metadata": {},
   "outputs": [],
   "source": []
  }
 ],
 "metadata": {
  "kernelspec": {
   "display_name": "Python [conda env:base] *",
   "language": "python",
   "name": "conda-base-py"
  },
  "language_info": {
   "codemirror_mode": {
    "name": "ipython",
    "version": 3
   },
   "file_extension": ".py",
   "mimetype": "text/x-python",
   "name": "python",
   "nbconvert_exporter": "python",
   "pygments_lexer": "ipython3",
   "version": "3.13.5"
  }
 },
 "nbformat": 4,
 "nbformat_minor": 5
}
